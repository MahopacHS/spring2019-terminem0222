{
  "cells": [
    {
      "metadata": {},
      "cell_type": "markdown",
      "source": "# Now You Code 3: Syracuse Historical Weather\n\nWrite a program to prompt a user to input a date and time string, and then it should **report the temperature and weather conditions on that day and time for Syracuse, NY.**\n\nTo accomplish this, use the Dark Sky Time Machine API, here: https://darksky.net/dev/docs/time-machine \n\nYou're going to have to read about the API and understand how it works before you can write this program, which is the point of the exercise.\n\nThe date and time that the user inputs must be in the following format: `YYYY-MM-DDThh:mm:ss` \n\nFor example January 7, 2016 at 4:30pm would be: `2016-01-07T16:30:00`\n\nBe sure to use the GPS coordinates for Syracuse, NY which are (lat=43.048122,lng=-76.147424)\n\nExample Run (Based on the exchange rates from 2017-03-06:\n\n```\nSyracuse, NY Historical Weather\nEnter a date and time in the following format: YYYY-MM-DDThh:mm:ss => 2016-07-23T14:30:00\nOn 2016-07-23T14:30:00 Syracuse, NY was Partly Cloudy with a temperature of  85\n```\n"
    },
    {
      "metadata": {
        "collapsed": true
      },
      "cell_type": "markdown",
      "source": "## Step 1: Problem Analysis\n\nInputs: A date in the format `YYYY-MM-DDThh:mm:ss` \n\nOutputs: the current weather conditions (sunny, rain, partly cloudy) and the temperature.\n\nAlgorithm (Steps in Program):\n\n```\ntodo write algorithm here\n```\n"
    },
    {
      "metadata": {
        "trusted": true
      },
      "cell_type": "code",
      "source": "import requests\n\ntry:\n    print(\"Syracuse, NY Weather\")\n    date = input(\"Enter a date and time - YYYY-MMDDThh:mm:ss\")\n    key = '04651eb3d270ddd5d15c2420efdf3c7b'\n    url = 'https://api.darksky.net/forecast/06e97b238ec0e2056b8a6a4d5f53b8ed/43.048122,-76.147424,%s'%(date)\n    response = requests.get(url)\n    conditions = response.json()\n    currently = conditions['currently']\n    print(date, currently['summary'], currently['apparentTemperature'])\n\nexcept:\n    print(\"Invaid\")",
      "execution_count": 5,
      "outputs": [
        {
          "output_type": "stream",
          "text": "Syracuse, NY Weather\nEnter a date and time - YYYY-MMDDThh:mm:ss2016-01-07T16:30:00\n2016-01-07T16:30:00 Mostly Cloudy 35.92\n",
          "name": "stdout"
        }
      ]
    },
    {
      "metadata": {},
      "cell_type": "markdown",
      "source": "## Step 6: Questions\n\n1. What happens when you enter `1/1/2017` as date input? Which error to you get? Fix the program in step 2 so that it handles this error.\n2. Put your laptop in Airplane mode (disable the wifi) and then run the program. What happens? Fix the program in step 4 so that it handles this error."
    },
    {
      "metadata": {
        "trusted": true
      },
      "cell_type": "code",
      "source": "1) Error. I put a try/except to handle any errors associated with invalid inputs and/or API call issues",
      "execution_count": 6,
      "outputs": [
        {
          "output_type": "error",
          "ename": "SyntaxError",
          "evalue": "invalid syntax (<ipython-input-6-3bee381a9128>, line 1)",
          "traceback": [
            "\u001b[0;36m  File \u001b[0;32m\"<ipython-input-6-3bee381a9128>\"\u001b[0;36m, line \u001b[0;32m1\u001b[0m\n\u001b[0;31m    1) Error. I put a try/except to handle any errors associated with invalid inputs and/or API call issues\u001b[0m\n\u001b[0m     ^\u001b[0m\n\u001b[0;31mSyntaxError\u001b[0m\u001b[0;31m:\u001b[0m invalid syntax\n"
          ]
        }
      ]
    },
    {
      "metadata": {},
      "cell_type": "markdown",
      "source": "## Reminder of Evaluation Criteria\n\n1. What the problem attempted (analysis, code, and answered questions) ?\n2. What the problem analysis thought out? (does the program match the plan?)\n3. Does the code execute without syntax error?\n4. Does the code solve the intended problem?\n5. Is the code well written? (easy to understand, modular, and self-documenting, handles errors)"
    }
  ],
  "metadata": {
    "anaconda-cloud": {},
    "kernelspec": {
      "name": "python3",
      "display_name": "Python 3",
      "language": "python"
    },
    "language_info": {
      "mimetype": "text/x-python",
      "nbconvert_exporter": "python",
      "name": "python",
      "pygments_lexer": "ipython3",
      "version": "3.5.4",
      "file_extension": ".py",
      "codemirror_mode": {
        "version": 3,
        "name": "ipython"
      }
    }
  },
  "nbformat": 4,
  "nbformat_minor": 1
}