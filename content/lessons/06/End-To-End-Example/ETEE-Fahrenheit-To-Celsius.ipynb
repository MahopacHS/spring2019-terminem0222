{
  "cells": [
    {
      "metadata": {},
      "cell_type": "markdown",
      "source": "# End-To-End Example: Temperature Conversions \n\nFirst we will write two conversion functions:\n\n- f2c convert Fahrenheit temperature to Celsius\n- c2f convert Celsius temperature to Fahrenheit\n\nNext, we'll test the functions by calling them. Once they're correct we will write our program to input a temperature and units, then convert to the other unit. "
    },
    {
      "metadata": {
        "collapsed": true,
        "trusted": false
      },
      "cell_type": "code",
      "source": "## function f2c\n# argument: temp in F\n# return temp in C\n\ndef f2c(temp_in_f):\n    return (temp_in_f-32) * (5/9)",
      "execution_count": 1,
      "outputs": []
    },
    {
      "metadata": {
        "collapsed": true,
        "trusted": false
      },
      "cell_type": "code",
      "source": "## function c2f\n# argument : temp in C\n# return: temp in F\n\ndef c2f(temp_in_c):\n    return (9/5)*temp_in_c + 32",
      "execution_count": 2,
      "outputs": []
    },
    {
      "metadata": {
        "trusted": false
      },
      "cell_type": "code",
      "source": "## Let's test our functions\n\n#should be 100 C\nprint (f2c(212))\n\n#shouod be 32 F\nprint(c2f(0))",
      "execution_count": 4,
      "outputs": [
        {
          "name": "stdout",
          "output_type": "stream",
          "text": "100.0\n32.0\n"
        }
      ]
    },
    {
      "metadata": {
        "trusted": false
      },
      "cell_type": "code",
      "source": "## Main program here\ntemp = float(input(\"Enter temperature: \"))\nunit = input(\"In which unit [F/C] ?\")\nif unit == 'F':\n    tempc = f2c(temp)\n    print(\"%.1f in F is %.1f in C\" % (temp,tempc))\nelif unit =='C':\n    tempf = c2f(temp)\n    print(\"%.1f in C is %.1f in F\" % (temp,tempf))\nelse:\n    print(\"I don't understand unit %s\" % (unit))\n    ",
      "execution_count": 11,
      "outputs": [
        {
          "name": "stdout",
          "output_type": "stream",
          "text": "Enter temperature: 25\nIn which unit [F/C] ?C\n25.0 in C is 77.0 in F\n"
        }
      ]
    },
    {
      "metadata": {
        "collapsed": true,
        "trusted": false
      },
      "cell_type": "code",
      "source": "",
      "execution_count": null,
      "outputs": []
    }
  ],
  "metadata": {
    "anaconda-cloud": {},
    "kernelspec": {
      "name": "python3",
      "display_name": "Python 3",
      "language": "python"
    },
    "language_info": {
      "mimetype": "text/x-python",
      "nbconvert_exporter": "python",
      "name": "python",
      "file_extension": ".py",
      "version": "3.5.4",
      "pygments_lexer": "ipython3",
      "codemirror_mode": {
        "version": 3,
        "name": "ipython"
      }
    }
  },
  "nbformat": 4,
  "nbformat_minor": 1
}