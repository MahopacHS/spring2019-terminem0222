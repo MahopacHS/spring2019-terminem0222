{
  "cells": [
    {
      "metadata": {},
      "cell_type": "markdown",
      "source": "# End-To-End Example: Password Program\n\nPassword Program:\n\n- 5 attempts for the password\n- On correct password, print: “Access Granted”, then end the program \n- On incorrect password “Invalid Password Attempt #” and give the user another try\n- After 5 attempts, print “You are locked out”. Then end the program.\n"
    },
    {
      "metadata": {
        "trusted": false
      },
      "cell_type": "code",
      "source": "secret = \"rhubarb\"\nattempts = 0\nwhile True:\n    password = input(\"Enter Password: \")\n    attempts= attempts + 1\n    if password == secret:\n        print(\"Access Granted!\")\n        break \n    print(\"Invalid password attempt #\",attempts)\n    if attempts == 5:\n        print(\"You are locked out\")\n        break",
      "execution_count": 3,
      "outputs": [
        {
          "name": "stdout",
          "output_type": "stream",
          "text": "Enter Password: sd\nInvalid password attempt # 1\nEnter Password: fds\nInvalid password attempt # 2\nEnter Password: sd\nInvalid password attempt # 3\nEnter Password: d\nInvalid password attempt # 4\nEnter Password: d\nInvalid password attempt # 5\nYou are locked out\n"
        }
      ]
    },
    {
      "metadata": {
        "collapsed": true,
        "trusted": false
      },
      "cell_type": "code",
      "source": "",
      "execution_count": null,
      "outputs": []
    },
    {
      "metadata": {
        "collapsed": true,
        "trusted": false
      },
      "cell_type": "code",
      "source": "",
      "execution_count": null,
      "outputs": []
    }
  ],
  "metadata": {
    "anaconda-cloud": {},
    "kernelspec": {
      "name": "python3",
      "display_name": "Python 3",
      "language": "python"
    },
    "language_info": {
      "mimetype": "text/x-python",
      "nbconvert_exporter": "python",
      "name": "python",
      "file_extension": ".py",
      "version": "3.5.4",
      "pygments_lexer": "ipython3",
      "codemirror_mode": {
        "version": 3,
        "name": "ipython"
      }
    }
  },
  "nbformat": 4,
  "nbformat_minor": 1
}