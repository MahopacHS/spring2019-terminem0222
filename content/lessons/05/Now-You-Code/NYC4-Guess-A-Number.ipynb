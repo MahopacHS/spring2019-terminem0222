{
  "cells": [
    {
      "metadata": {},
      "cell_type": "markdown",
      "source": "# Now You Code 4: Guess A Number\n\nWrite a program to play the classic \"Guess a number\" game.\n\nIn this game the computer selects a random number between 1 and 10.\nIt's your job to guess the number. Whenever you guess, the computer will\ngive you a hint of higher or lower. This process repeats until you guess\nthe number, after which the computer reports the number of guesses it took you.\n\nFor Example:\n\nI'm thinking of a number between 1 and 10...\nYour guess: 5\nToo low. Guess higher.\nYour guess: 7\nToo high. Guess lower.\nYour guess: 6\nYou guessed it in 3 tries.\n\nYour loop should continue until your input guess equals the\ncomputer generated random number.\n\n### How do you make Python generate a random number? "
    },
    {
      "metadata": {
        "trusted": false
      },
      "cell_type": "code",
      "source": "# Sample code which demostrates how to generate a number between 1 and 10\nimport random \nnumber = random.randint(1,10)\nprint(number)",
      "execution_count": 20,
      "outputs": [
        {
          "name": "stdout",
          "output_type": "stream",
          "text": "4\n"
        }
      ]
    },
    {
      "metadata": {},
      "cell_type": "markdown",
      "source": "Run the cell above a couple of times. Notice how each time you execute the code, it comes up with a different number. \n\nHere's a breakdown of the code\n\n```\nline 1 imports the random module\nline 2 randomly selects an integer between 1 and 10\nline 3 prints the number\n```\n\nNow that you understand how to generate a random number, try to design then write code for the program. The first step in your program should be to generate the random number."
    },
    {
      "metadata": {
        "collapsed": true
      },
      "cell_type": "markdown",
      "source": "## Step 1: Problem Analysis \n\nInputs:\n\nOutputs:\n\nAlgorithm (Steps in Program):\n\n\n"
    },
    {
      "metadata": {
        "trusted": false
      },
      "cell_type": "code",
      "source": "import random\n# Step 2: write code for program\n\n",
      "execution_count": 1,
      "outputs": []
    },
    {
      "metadata": {},
      "cell_type": "markdown",
      "source": "## Step 3: Questions\n\n1. Which loop did you use to solve the problem? What is a definite or indefinite loop?\n2. Modify this program to allow you to guess a number between 1 and 100. How much of your code did you need to change to make this work? \n3. This program is a good example of a difficult problem to conceptualize which has a simple solution when you look at actual lines of code. I assume you did not write this in a single try, so explain where you got stuck and describe your approach to overcoming it.\n"
    },
    {
      "metadata": {},
      "cell_type": "markdown",
      "source": "## Reminder of Evaluation Criteria\n\n1. What the problem attempted (analysis, code, and answered questions) ?\n2. What the problem analysis thought out? (does the program match the plan?)\n3. Does the code execute without syntax error?\n4. Does the code solve the intended problem?\n5. Is the code well written? (easy to understand, modular, and self-documenting, handles errors)\n"
    },
    {
      "metadata": {
        "collapsed": true,
        "trusted": false
      },
      "cell_type": "code",
      "source": "",
      "execution_count": null,
      "outputs": []
    }
  ],
  "metadata": {
    "anaconda-cloud": {},
    "kernelspec": {
      "name": "python3",
      "display_name": "Python 3",
      "language": "python"
    },
    "language_info": {
      "mimetype": "text/x-python",
      "nbconvert_exporter": "python",
      "name": "python",
      "file_extension": ".py",
      "version": "3.5.4",
      "pygments_lexer": "ipython3",
      "codemirror_mode": {
        "version": 3,
        "name": "ipython"
      }
    }
  },
  "nbformat": 4,
  "nbformat_minor": 1
}