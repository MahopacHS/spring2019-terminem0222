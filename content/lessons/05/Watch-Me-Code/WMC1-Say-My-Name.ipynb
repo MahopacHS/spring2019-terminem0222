{
  "cells": [
    {
      "metadata": {},
      "cell_type": "markdown",
      "source": "# Watch Me Code 1: Say My Name\n\nThis program will say your name a number of times.\n"
    },
    {
      "metadata": {
        "trusted": false
      },
      "cell_type": "code",
      "source": "name = input(\"What is your name? \")\ntimes = int(input(\"How many times would you like me to say your name %s? \" % name))\n\ni = 1\nwhile i <=times:\n    print(name)\n    i = i + 1",
      "execution_count": 1,
      "outputs": [
        {
          "name": "stdout",
          "output_type": "stream",
          "text": "what is your name: Bob\nHow many times would you like me to say your name Bob? 4\nBob\nBob\nBob\nBob\n"
        }
      ]
    },
    {
      "metadata": {
        "collapsed": true,
        "trusted": false
      },
      "cell_type": "code",
      "source": "",
      "execution_count": null,
      "outputs": []
    }
  ],
  "metadata": {
    "anaconda-cloud": {},
    "kernelspec": {
      "name": "python3",
      "display_name": "Python 3",
      "language": "python"
    },
    "language_info": {
      "mimetype": "text/x-python",
      "nbconvert_exporter": "python",
      "name": "python",
      "pygments_lexer": "ipython3",
      "version": "3.5.4",
      "file_extension": ".py",
      "codemirror_mode": {
        "version": 3,
        "name": "ipython"
      }
    }
  },
  "nbformat": 4,
  "nbformat_minor": 1
}