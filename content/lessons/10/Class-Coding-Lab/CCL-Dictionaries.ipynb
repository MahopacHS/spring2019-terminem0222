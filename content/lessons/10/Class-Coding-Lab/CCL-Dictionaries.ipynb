{
  "cells": [
    {
      "metadata": {},
      "cell_type": "markdown",
      "source": "# In-Class Coding Lab: Dictionaries\n\nThe goals of this lab are to help you understand:\n\n - How to use Python Dictionaries\n - Basic Dictionary methods\n - Dealing with Key errors\n - How to use lists of Dictionaries\n - How to encode / decode python dictionaries to json.\n \n## Dictionaries are Key-Value Pairs.\n\nThe **key** is unique for each Python dictionary object and is always of type `str`. The **value** stored under the key can be any Python type. \n\nThis example creates a `stock` variable with two keys `symbol` and `name`. We access the dictionary key with `['keyname']`."
    },
    {
      "metadata": {
        "trusted": true
      },
      "cell_type": "code",
      "source": "stock = {} # empty dictionary\nstock['symbol'] = 'AAPL'\nstock['name'] = 'Apple Computer'\nprint(stock)\nprint(stock['symbol'])\nprint(stock['name'])",
      "execution_count": 1,
      "outputs": [
        {
          "output_type": "stream",
          "text": "{'symbol': 'AAPL', 'name': 'Apple Computer'}\nAAPL\nApple Computer\n",
          "name": "stdout"
        }
      ]
    },
    {
      "metadata": {},
      "cell_type": "markdown",
      "source": "While Python lists are best suited for storing multiple values of the same type ( like grades ), Python dictionaries are best suited for storing hybrid values, or values with multiple attributes.\n\nIn the example above we created an empty dictionary `{}` then assigned keys `symbol` and `name` as part of individual assignment statements.\n\nWe can also build the dictionary in a single statement, like this:"
    },
    {
      "metadata": {
        "trusted": true
      },
      "cell_type": "code",
      "source": "stock = { 'name' : 'Apple Computer', 'symbol' : 'AAPL', 'value' : 125.6 }\nprint(stock)\nprint(\"%s (%s) has a value of $%.2f\" %(stock['name'], stock['symbol'], stock['value']))",
      "execution_count": 2,
      "outputs": [
        {
          "output_type": "stream",
          "text": "{'value': 125.6, 'symbol': 'AAPL', 'name': 'Apple Computer'}\nApple Computer (AAPL) has a value of $125.60\n",
          "name": "stdout"
        }
      ]
    },
    {
      "metadata": {},
      "cell_type": "markdown",
      "source": "## Dictionaries are mutable\n\nThis means we can change their value. We can add and remove keys and update the value of keys. This makes dictionaries quite useful for storing  data."
    },
    {
      "metadata": {
        "trusted": true
      },
      "cell_type": "code",
      "source": "# let's add 2 new keys\nprint(\"Before changes\", stock)\nstock['low'] = 119.85\nstock['high'] = 127.0\n\n# and update the value key\nstock['value'] = 126.25\nprint(\"After change\", stock)\n",
      "execution_count": 3,
      "outputs": [
        {
          "output_type": "stream",
          "text": "Before changes {'value': 125.6, 'symbol': 'AAPL', 'name': 'Apple Computer'}\nAfter change {'high': 127.0, 'value': 126.25, 'symbol': 'AAPL', 'low': 119.85, 'name': 'Apple Computer'}\n",
          "name": "stdout"
        }
      ]
    },
    {
      "metadata": {},
      "cell_type": "markdown",
      "source": "## Now you Try It!\n\nCreate a python dictionary called `car` with the following keys `make`, `model` and `price`. Set appropriate values and print out the dictionary.\n"
    },
    {
      "metadata": {
        "trusted": true
      },
      "cell_type": "code",
      "source": "# TODO: Write code here \ncar = { 'make' : 'Ford', 'model' : 'Mustang', 'price' : 5000 }\nprint(car)\n\n",
      "execution_count": 4,
      "outputs": [
        {
          "output_type": "stream",
          "text": "{'make': 'Ford', 'price': 5000, 'model': 'Mustang'}\n",
          "name": "stdout"
        }
      ]
    },
    {
      "metadata": {},
      "cell_type": "markdown",
      "source": "## What Happens when the key is not there?\n\nLet's go back to our stock example. What happens when we try to read a key not present in the dictionary? \n\nThe answer is that Python will report a `KeyError` "
    },
    {
      "metadata": {
        "trusted": true
      },
      "cell_type": "code",
      "source": "print( stock['change'] )",
      "execution_count": 5,
      "outputs": [
        {
          "output_type": "error",
          "ename": "KeyError",
          "evalue": "'change'",
          "traceback": [
            "\u001b[0;31m---------------------------------------------------------------------------\u001b[0m",
            "\u001b[0;31mKeyError\u001b[0m                                  Traceback (most recent call last)",
            "\u001b[0;32m<ipython-input-5-28c6e1db7ee9>\u001b[0m in \u001b[0;36m<module>\u001b[0;34m()\u001b[0m\n\u001b[0;32m----> 1\u001b[0;31m \u001b[0mprint\u001b[0m\u001b[0;34m(\u001b[0m \u001b[0mstock\u001b[0m\u001b[0;34m[\u001b[0m\u001b[0;34m'change'\u001b[0m\u001b[0;34m]\u001b[0m \u001b[0;34m)\u001b[0m\u001b[0;34m\u001b[0m\u001b[0m\n\u001b[0m",
            "\u001b[0;31mKeyError\u001b[0m: 'change'"
          ]
        }
      ]
    },
    {
      "metadata": {},
      "cell_type": "markdown",
      "source": "No worries. We know how to handle run-time errors in Python... use `try except` !!!"
    },
    {
      "metadata": {
        "trusted": true
      },
      "cell_type": "code",
      "source": "try:\n    print( stock['change'] )\nexcept KeyError:\n    print(\"The key 'change' does not exist!\")",
      "execution_count": 6,
      "outputs": [
        {
          "output_type": "stream",
          "text": "The key 'change' does not exist!\n",
          "name": "stdout"
        }
      ]
    },
    {
      "metadata": {},
      "cell_type": "markdown",
      "source": "## Avoiding KeyError\n\nYou can avoid `KeyError` using the `get()` dictionary method. This method will return a default value when the key does not exist.\n\nThe first argument to `get()` is the key to get, the second argument is the value to return when the key does not exist. "
    },
    {
      "metadata": {
        "trusted": true
      },
      "cell_type": "code",
      "source": "print(stock.get('name','no key'))\nprint(stock.get('change', 'no key'))",
      "execution_count": 7,
      "outputs": [
        {
          "output_type": "stream",
          "text": "Apple Computer\nno key\n",
          "name": "stdout"
        }
      ]
    },
    {
      "metadata": {},
      "cell_type": "markdown",
      "source": "## Now You try It!\n\nWrite a program to ask the user to input a key for the `stock` variable. \n\nIf the key exists, print the value, otherwise print 'Key does not exist'"
    },
    {
      "metadata": {
        "trusted": true
      },
      "cell_type": "code",
      "source": "# TODO: write code here\nkey = input(\"Enter a key for the Stock variable\")\n\nprint(stock.get(key,'no key'))\nprint(stock.get('change', 'no key'))\n\n",
      "execution_count": 8,
      "outputs": [
        {
          "output_type": "stream",
          "name": "stdout",
          "text": "Enter a key for the Stock variabletest\nno key\nno key\n"
        }
      ]
    },
    {
      "metadata": {},
      "cell_type": "markdown",
      "source": "## Enumerating keys and values\n\nYou can enumerate keys and values easily, using the `keys()` and `values()` methods:"
    },
    {
      "metadata": {
        "trusted": true
      },
      "cell_type": "code",
      "source": "print(\"KEYS\")\nfor k in stock.keys():\n    print(k)\n    \nprint(\"VALUES\")\nfor v in stock.values():\n    print(v)",
      "execution_count": 9,
      "outputs": [
        {
          "output_type": "stream",
          "text": "KEYS\nhigh\nvalue\nsymbol\nlow\nname\nVALUES\n127.0\n126.25\nAAPL\n119.85\nApple Computer\n",
          "name": "stdout"
        }
      ]
    },
    {
      "metadata": {},
      "cell_type": "markdown",
      "source": "## List of Dictionary\n\nThe List of Dictionary object in Python allows us to create useful in-memory data structures. It's one of the features of Python that sets it apart from other programming languages. \n\nLet's use it to build a portfolio (list of 4 stocks)."
    },
    {
      "metadata": {
        "trusted": true
      },
      "cell_type": "code",
      "source": "portfolio = [\n    { 'symbol' : 'AAPL', 'name' : 'Apple Computer Corp.', 'value': 136.66 },\n    { 'symbol' : 'AMZN', 'name' : 'Amazon.com, Inc.', 'value': 845.24 },\n    { 'symbol' : 'MSFT', 'name' : 'Microsoft Corporation', 'value': 64.62 },\n    { 'symbol' : 'TSLA', 'name' : 'Tesla, Inc.', 'value': 257.00 }    \n]\n\nprint(\"first stock\", portfolio[0])           \nprint(\"name of first stock\", portfolio[0]['name'])   \nprint(\"last stock\", portfolio[-1])          \nprint(\"value of 2nd stock\",  portfolio[1]['value'])  ",
      "execution_count": 10,
      "outputs": [
        {
          "output_type": "stream",
          "text": "first stock {'value': 136.66, 'symbol': 'AAPL', 'name': 'Apple Computer Corp.'}\nname of first stock Apple Computer Corp.\nlast stock {'value': 257.0, 'symbol': 'TSLA', 'name': 'Tesla, Inc.'}\nvalue of 2nd stock 845.24\n",
          "name": "stdout"
        }
      ]
    },
    {
      "metadata": {},
      "cell_type": "markdown",
      "source": "## Putting It All Together\n\nWrite a program to build out your personal stock portfolio.\n\n```\n1. Start with an empty list, called portfolio\n2. loop\n3.     create a new stock dictionary\n3.     input a stock symbol, or type 'QUIT' to print portfolio\n4.     if symbol equals 'QUIT' exit loop\n5.     add symbol value to stock dictionary under 'symbol' key\n6.     input stock value as float\n7.     add stock value to stock dictionary under 'value key\n8.     append stock variable to portfolio list variable\n9. time to print the portfolio: for each stock in the portfolio\n10.    print stock symbol and stock value, like this \"AAPL $136.66\"\n```"
    },
    {
      "metadata": {
        "trusted": true
      },
      "cell_type": "code",
      "source": "portfolio = list()\n\n\nstock = {\"symbol\" : \"placeholder\", \"value\" : 1}\nsymbol = input(\"Enter a symbol, or type 'QUIT' to print portfolio.\")\n\nif symbol == \"QUIT\":\n    print(portfolio)\nelse:\n    stock[\"symbol\"] = symbol\n    num = input(\"Enter value.\")\n    num = float(num)\n    stock[\"value\"] = num\n    \n    \n    \n    \nprint(stock)\n    ",
      "execution_count": 13,
      "outputs": [
        {
          "output_type": "stream",
          "name": "stdout",
          "text": "Enter a symbol, or type 'QUIT' to print portfolio.test\nEnter value.1.5\n{'value': 1.5, 'symbol': 'test'}\n"
        }
      ]
    },
    {
      "metadata": {
        "collapsed": true,
        "trusted": false
      },
      "cell_type": "code",
      "source": "",
      "execution_count": null,
      "outputs": []
    }
  ],
  "metadata": {
    "anaconda-cloud": {},
    "kernelspec": {
      "name": "python3",
      "display_name": "Python 3",
      "language": "python"
    },
    "language_info": {
      "mimetype": "text/x-python",
      "nbconvert_exporter": "python",
      "name": "python",
      "pygments_lexer": "ipython3",
      "version": "3.5.4",
      "file_extension": ".py",
      "codemirror_mode": {
        "version": 3,
        "name": "ipython"
      }
    }
  },
  "nbformat": 4,
  "nbformat_minor": 1
}