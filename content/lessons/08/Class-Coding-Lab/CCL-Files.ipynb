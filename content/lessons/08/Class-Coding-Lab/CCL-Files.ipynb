{
  "cells": [
    {
      "metadata": {},
      "cell_type": "markdown",
      "source": "# In-Class Coding Lab: Files\n\nThe goals of this lab are to help you to understand:\n\n- Reading data from a file all at once or one line at a time.\n- Searching for data in files\n- Parsing text data to numerical data.\n- How to build complex programs incrementally.\n\n## Average  Spam Confidence\n\nFor this lab, we will write a program to read spam confidence headers from a mailbox file like `ICCL-mbox-tiny.txt` or `ICCL-mbox-small.txt`. These files contain raw email data, and in that data is a SPAM confidence number for each message:\n\n`X-DSPAM-Confidence:0.8475`\n\nOur goal will be to find each of these lines in the file, and extract the confidence number (In this case `0.8475`), with the end-goal of calculating the average SPAM Confidence of all the emails in the file. \n\n### Reading from the file\n\nLet's start with some code to read the lines of text from `ICCL-mbox-tiny.txt`"
    },
    {
      "metadata": {
        "trusted": true
      },
      "cell_type": "code",
      "source": "filename = \"CCL-mbox-tiny.txt\"\ncount = 0\nwith open(filename, 'r') as f:\n    for line in f.readlines():\n        count = count + 1\nprint(count)",
      "execution_count": 13,
      "outputs": [
        {
          "output_type": "stream",
          "text": "332\n",
          "name": "stdout"
        }
      ]
    },
    {
      "metadata": {},
      "cell_type": "markdown",
      "source": "### Now Try It\n\nNow modify the code above to print the number of lines in the file, instead of printing the lines themselves. You'll need to increment a variable each time through the loop and then print it out afterwards.\n\nThere should be **332** lines.\n\n### Finding the SPAM Confidence\n\nNext, we'll focus on only getting lines addressing `X-DSPAM-Confidence:`. We do this by including an `if` statement inside  the `for` loop.\n\nYou need to edit line 4 of the code below to only print lines which begin with `X-DSPAM-Confidence:` There should be **5**"
    },
    {
      "metadata": {
        "trusted": true
      },
      "cell_type": "code",
      "source": "filename = \"CCL-mbox-tiny.txt\"\ncount=0\nwith open(filename, 'r') as f:\n    for line in f.readlines():\n        if line.startswith(\"X-DSPAM-Confidence:\"):\n            count = count + 1\n            print(count)\n",
      "execution_count": 15,
      "outputs": [
        {
          "output_type": "stream",
          "text": "1\n2\n3\n4\n5\n",
          "name": "stdout"
        }
      ]
    },
    {
      "metadata": {},
      "cell_type": "markdown",
      "source": "### Parsing out the confidence value\n\nThe final step is to figure out how to parse out the confidence value from the string. \nFor example for the given line: `X-DSPAM-Confidence: 0.8475` we need to get the value `0.8475` as a float.\n\nThe  strategy here is to replace `X-DSPAM-Confidence:` with an empty string, then calling the `float()` function to convert the results to a float. \n\n### Now Try It\n"
    },
    {
      "metadata": {
        "trusted": true
      },
      "cell_type": "code",
      "source": "line = 'X-DSPAM-Confidence: 0.8475'\nnumber =  line.strip(\"X-DSPAM-Confidence: \")\nnumber = float(number)\nprint(number)",
      "execution_count": 12,
      "outputs": [
        {
          "output_type": "stream",
          "text": "0.8475\n",
          "name": "stdout"
        }
      ]
    },
    {
      "metadata": {},
      "cell_type": "markdown",
      "source": "### Putting it all together\n\nNow that we have all the working parts, let's put it all together.\n\n```\n1.  line count is 0\n2.  total confidence is 0\n3.  open mailbox file\n4.  for each line in file\n5.  if line starts with `X-DSPAM-Confidence:`\n6.     remove `X-DSPAM-Confidence:` from line and convert to float\n7.     increment line count\n8.     add spam confidence to total confidence\n9.  print average confidence (total confidence/line count)\n```"
    },
    {
      "metadata": {
        "trusted": true
      },
      "cell_type": "code",
      "source": "## TODO: Write program here:\nlinecount = 0\ntotalconf = 0\nfilename = \"CCL-mbox-tiny.txt\"\n\nwith open(filename, 'r') as f:\n    for line in f.readlines():\n        if line.startswith(\"X-DSPAM-Confidence:\"):\n            number = line.strip(\"X-DSPAM-Confidence: \")\n            number = float(number)\n            print (number)\n            linecount = linecount + 1\n            totalconf = totalconf + number\n            print(totalconf)\nprint(totalconf / linecount)\n            \n",
      "execution_count": 18,
      "outputs": [
        {
          "output_type": "stream",
          "text": "0.8475\n0.8475\n0.6178\n1.4653\n0.6961\n2.1614\n0.7565\n2.9179\n0.7626\n3.6805\n0.7361\n",
          "name": "stdout"
        }
      ]
    },
    {
      "metadata": {},
      "cell_type": "markdown",
      "source": "When you have the program working, try it with `ICCL-mbox-short.txt` mailbox file, too."
    }
  ],
  "metadata": {
    "anaconda-cloud": {},
    "kernelspec": {
      "name": "python3",
      "display_name": "Python 3",
      "language": "python"
    },
    "language_info": {
      "mimetype": "text/x-python",
      "nbconvert_exporter": "python",
      "name": "python",
      "pygments_lexer": "ipython3",
      "version": "3.5.4",
      "file_extension": ".py",
      "codemirror_mode": {
        "version": 3,
        "name": "ipython"
      }
    }
  },
  "nbformat": 4,
  "nbformat_minor": 1
}