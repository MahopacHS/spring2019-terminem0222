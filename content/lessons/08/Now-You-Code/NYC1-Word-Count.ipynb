{
  "cells": [
    {
      "metadata": {},
      "cell_type": "markdown",
      "source": "# Now You Code 1: Word Count\n\nLet's write a program which takes a file name as input, counts the number of words in the file, then outputs the word count.\n\nThe program should handle `FileNotFoundError` as an exception in case you enter a file that does not exist.\n\nSample Run #1:\n\n```\nWord Count!\nEnter Filename: NYC1-romeo.txt\nThere are 33 words in NYC1-romeo.txt\n```\n\nSample Run #2:\n\n```\nWord Count!\nEnter Filename: testing\nFile Not Found: testing\n```\nTry these files:\n\n- `NYC1-cant-stop-the-feeling.txt`\n- `NYC1-preamble.txt`\n- `NYC1-romeo.txt` or \n- `NYC1-zork.txt`\n\n\n**HINT**: Read in the file a line at a time, then split the line into words and count each word... and remember your algorithm does not need to account for exceptions... those are programming concerns!\n"
    },
    {
      "metadata": {
        "collapsed": true
      },
      "cell_type": "markdown",
      "source": "## Step 1: Problem Analysis\n\nInputs:\n\nOutputs:\n\nAlgorithm (Steps in Program):\n\n\n"
    },
    {
      "metadata": {
        "trusted": false
      },
      "cell_type": "code",
      "source": "## Step 2: write code here\n\n",
      "execution_count": 10,
      "outputs": []
    },
    {
      "metadata": {
        "collapsed": true
      },
      "cell_type": "markdown",
      "source": "## Step 3: Questions\n\n1. Where are these files located? Make your own file, add words to it then run with the word count program.\n2. Explain a strategy for mkaing this program  smarter so that it does not include puncutuation in the word counts?\n3. Is it possible to have a file with a word count of 0? Explain.\n"
    },
    {
      "metadata": {},
      "cell_type": "markdown",
      "source": "## Reminder of Evaluation Criteria\n\n1. What the problem attempted (analysis, code, and answered questions) ?\n2. What the problem analysis thought out? (does the program match the plan?)\n3. Does the code execute without syntax error?\n4. Does the code solve the intended problem?\n5. Is the code well written? (easy to understand, modular, and self-documenting, handles errors)\n"
    },
    {
      "metadata": {
        "trusted": false
      },
      "cell_type": "code",
      "source": "",
      "execution_count": null,
      "outputs": []
    }
  ],
  "metadata": {
    "anaconda-cloud": {},
    "kernelspec": {
      "name": "python3",
      "display_name": "Python 3",
      "language": "python"
    },
    "language_info": {
      "mimetype": "text/x-python",
      "nbconvert_exporter": "python",
      "name": "python",
      "pygments_lexer": "ipython3",
      "version": "3.5.4",
      "file_extension": ".py",
      "codemirror_mode": {
        "version": 3,
        "name": "ipython"
      }
    }
  },
  "nbformat": 4,
  "nbformat_minor": 1
}