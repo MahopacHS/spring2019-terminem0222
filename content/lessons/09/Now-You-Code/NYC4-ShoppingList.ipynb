{
  "cells": [
    {
      "metadata": {},
      "cell_type": "markdown",
      "source": "# Now You Code 4: Shopping List\n\nWrite a simple shopping list program. Use a Python `list` as a shopping list. Functions definitions have been written for you, so all you need to do is complete the code inside the function. \n\nThe main program loop has a menu allowing you to 1) add to the list 2) remove an item from the list or 3) print the list\n\nExample Run\n\n```\nA - Add Item to Shopping List\nP - Print Shopping List\nR - Remove Item from Shopping List\nQ - Quit Shopping List Program\nEnter choice: a\nEnter Item to Add: eggs\nA - Add Item to Shopping List\nP - Print Shopping List\nR - Remove Item from Shopping List\nQ - Quit Shopping List Program\nEnter choice: a\nEnter Item to Add: eggs\neggs is already in the list!\nA - Add Item to Shopping List\nP - Print Shopping List\nR - Remove Item from Shopping List\nQ - Quit Shopping List Program\nEnter choice: p\nYour List: ['eggs']\nA - Add Item to Shopping List\nP - Print Shopping List\nR - Remove Item from Shopping List\nQ - Quit Shopping List Program\nEnter choice: r\nEnter Item to Remove from List: peas\npeas is not in the list!\nA - Add Item to Shopping List\nP - Print Shopping List\nR - Remove Item from Shopping List\nQ - Quit Shopping List Program\nEnter choice: r\nEnter Item to Remove from List: eggs\nA - Add Item to Shopping List\nP - Print Shopping List\nR - Remove Item from Shopping List\nQ - Quit Shopping List Program\nEnter choice: p\nYour List: []\nA - Add Item to Shopping List\nP - Print Shopping List\nR - Remove Item from Shopping List\nQ - Quit Shopping List Program\nEnter choice: q\n```\n\nMost of the code has been written for you fill in the areas below.\n"
    },
    {
      "metadata": {
        "collapsed": true,
        "trusted": false
      },
      "cell_type": "code",
      "source": "# TODO: Write Todo lists for\n# #1 Add item to list if it does not exist\n# #2 Remove item from list when it does not exist\n\n",
      "execution_count": null,
      "outputs": []
    },
    {
      "metadata": {
        "collapsed": true,
        "trusted": false
      },
      "cell_type": "code",
      "source": "# Write code here\ndef print_menu():\n    print(\"A - Add Item to Shopping List\")\n    print(\"P - Print Shopping List\")\n    print(\"R - Remove Item from Shopping List\")\n    print(\"Q - Quit Shopping List Program\")\n    return\n\n# prompts for a new item using input() then adds it to the shopping list\n# only when it does not exist\n# input: shopping list\n# output: shopping list\ndef add_item(shopping_list):\n    #todo write code here\n\n    return shopping_list\n\n# sorts then prints the shopping list\n# input: shopping list\n# output: shopping list\ndef print_list(shopping_list):\n    #todo write code here\n\n    return shopping_list\n\n# prompts for an item then removes it from the shopping list\n# only when it exists\n# input: shopping list\n# output: shopping list\ndef remove_item(shopping_list):\n    #todo write code here\n\n    return shopping_list        \n\n\n## Main Program Written For You\nshopping_list = []\nwhile True:\n    print_menu()\n    choice = input(\"Enter choice: \").upper()\n    if choice == 'A':\n        shopping_list = add_item(shopping_list)\n    elif choice == 'P':\n        shopping_list = print_list(shopping_list)\n    elif choice == 'R':\n        shopping_list = remove_item(shopping_list)\n    elif choice == \"Q\":\n        break\n    else:\n        print('ERROR:', choice,'is not a menu option')\n",
      "execution_count": null,
      "outputs": []
    },
    {
      "metadata": {},
      "cell_type": "markdown",
      "source": "## Step 3: Questions\n\n1. When we write functions we usually don't have `input()` or `print()` Python functions in them, but in this solution we do. What is the advantage of doing it in this example?\n2. Explain a strategy you can employ to save the list to a file and load it back. How would that work?\n3. What does the `.upper()` method function accomplish in the main program?"
    },
    {
      "metadata": {},
      "cell_type": "markdown",
      "source": "## Reminder of Evaluation Criteria\n\n1. What the problem attempted (analysis, code, and answered questions) ?\n2. What the problem analysis thought out? (does the program match the plan?)\n3. Does the code execute without syntax error?\n4. Does the code solve the intended problem?\n5. Is the code well written? (easy to understand, modular, and self-documenting, handles errors)"
    },
    {
      "metadata": {
        "trusted": false
      },
      "cell_type": "code",
      "source": "",
      "execution_count": null,
      "outputs": []
    }
  ],
  "metadata": {
    "anaconda-cloud": {},
    "kernelspec": {
      "name": "python3",
      "display_name": "Python 3",
      "language": "python"
    },
    "language_info": {
      "mimetype": "text/x-python",
      "nbconvert_exporter": "python",
      "name": "python",
      "file_extension": ".py",
      "version": "3.5.4",
      "pygments_lexer": "ipython3",
      "codemirror_mode": {
        "version": 3,
        "name": "ipython"
      }
    }
  },
  "nbformat": 4,
  "nbformat_minor": 1
}