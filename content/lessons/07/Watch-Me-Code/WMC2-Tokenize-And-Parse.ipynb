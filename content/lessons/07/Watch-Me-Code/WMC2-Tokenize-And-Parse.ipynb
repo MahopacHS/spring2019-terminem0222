{
  "cells": [
    {
      "metadata": {},
      "cell_type": "markdown",
      "source": "# Watch Me Code 2: Tokenize and Parse\n\nOur end-game is a program which reads in a list of numbers separated by a space and then outputs the sum of those numbers."
    },
    {
      "metadata": {
        "trusted": false
      },
      "cell_type": "code",
      "source": "# what exactly is the type of a space-separated list of numbers?\nraw = \"12 45 90\"\ntype(raw)\n\ntokens = raw.split(\" \")\ntotal = 0\nfor token in tokens:\n    total = total + int(token)\n\nprint(\"You total is: \")\nprint(total)\n",
      "execution_count": 8,
      "outputs": [
        {
          "name": "stdout",
          "output_type": "stream",
          "text": "You total is: \n147\n"
        }
      ]
    },
    {
      "metadata": {
        "collapsed": true,
        "trusted": false
      },
      "cell_type": "code",
      "source": "",
      "execution_count": null,
      "outputs": []
    }
  ],
  "metadata": {
    "anaconda-cloud": {},
    "kernelspec": {
      "name": "python3",
      "display_name": "Python 3",
      "language": "python"
    },
    "language_info": {
      "mimetype": "text/x-python",
      "nbconvert_exporter": "python",
      "name": "python",
      "pygments_lexer": "ipython3",
      "version": "3.5.4",
      "file_extension": ".py",
      "codemirror_mode": {
        "version": 3,
        "name": "ipython"
      }
    }
  },
  "nbformat": 4,
  "nbformat_minor": 1
}