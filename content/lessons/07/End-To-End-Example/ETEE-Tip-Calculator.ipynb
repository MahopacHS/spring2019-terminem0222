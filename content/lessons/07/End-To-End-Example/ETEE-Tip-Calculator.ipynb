{
  "cells": [
    {
      "metadata": {},
      "cell_type": "markdown",
      "source": "# End-To-End Example: Tip Calculator\n\nThe following code calculates the amount of tip you should leave based on the amount of the check and percentage you would like to tip.\n\n"
    },
    {
      "metadata": {
        "trusted": false
      },
      "cell_type": "code",
      "source": "total = float(input(\"Enter Amount of Check: \"))\ntip = float(input(\"Enter the Tip Percentage: \"))\ntip_amount = total * tip\nprint (\"You should leave this amount for a tip $%.2f\" % (tip_amount))",
      "execution_count": 1,
      "outputs": [
        {
          "name": "stdout",
          "output_type": "stream",
          "text": "Enter Amount of Check: 100\nEnter the Tip Percentage: 15\nYou should leave this amount for a tip $1500.00\n"
        }
      ]
    },
    {
      "metadata": {},
      "cell_type": "markdown",
      "source": "## The Issues\n\nThe issues with this program is that its not smart with the tip percentage. When I enter 15 is assumes 1500% not 15%. \n\nWith our knowledge of strings and parsing we can make this program more intelligent:\n\n- When you enter `0.15` it uses `0.15`\n- When you enter `15` it assumes you meant `0.15` (divides by 100)\n- When you enter `15%` it assumes you meant `0.15` (removes the %, then divides by 100)\n\n\nLikewise we should do the same for currency input. Assuming the user might enter a $"
    },
    {
      "metadata": {
        "trusted": false
      },
      "cell_type": "code",
      "source": "# exploring how to parse percentages\nx = \"15 %\"\ny  = float(x.replace('%',''))\nif y >=1:\n    y = y/100\nprint(y)",
      "execution_count": 3,
      "outputs": [
        {
          "data": {
            "text/plain": "0.15"
          },
          "execution_count": 3,
          "metadata": {},
          "output_type": "execute_result"
        }
      ]
    },
    {
      "metadata": {
        "trusted": false
      },
      "cell_type": "code",
      "source": "## Function: percentage - parses string input into a float as a percentage\n## Arguments: text\n## Returns float\ndef percentage(text):\n    number = float(text.replace('%',''))\n    if number >1:\n        number = number /100\n    return number\n\n## Function: currency - parses string input into a float as currency\n## Arguments: text\n## Returns float\ndef currency(text):\n    number = float(text.replace('$',''))\n    return number",
      "execution_count": 4,
      "outputs": []
    },
    {
      "metadata": {
        "trusted": false
      },
      "cell_type": "code",
      "source": "total = currency(input(\"Enter Amount of Check: \"))\ntip = percentage(input(\"Enter the Tip Percentage: \"))\ntip_amount = total * tip\nprint (\"You should leave this amount for a tip $%.2f\" % (tip_amount))",
      "execution_count": 7,
      "outputs": [
        {
          "name": "stdout",
          "output_type": "stream",
          "text": "Enter Amount of Check: 100\nEnter the Tip Percentage: .15\nYou should leave this amount for a tip $15.00\n"
        }
      ]
    },
    {
      "metadata": {
        "collapsed": true,
        "trusted": false
      },
      "cell_type": "code",
      "source": "",
      "execution_count": null,
      "outputs": []
    }
  ],
  "metadata": {
    "anaconda-cloud": {},
    "kernelspec": {
      "name": "python3",
      "display_name": "Python 3",
      "language": "python"
    },
    "language_info": {
      "mimetype": "text/x-python",
      "nbconvert_exporter": "python",
      "name": "python",
      "pygments_lexer": "ipython3",
      "version": "3.5.4",
      "file_extension": ".py",
      "codemirror_mode": {
        "version": 3,
        "name": "ipython"
      }
    }
  },
  "nbformat": 4,
  "nbformat_minor": 1
}